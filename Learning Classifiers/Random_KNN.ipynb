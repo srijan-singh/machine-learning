{
  "nbformat": 4,
  "nbformat_minor": 0,
  "metadata": {
    "colab": {
      "name": "Random_KNN.ipynb",
      "provenance": [],
      "authorship_tag": "ABX9TyNr/dTLbz4KgclhsNkBXLse",
      "include_colab_link": true
    },
    "kernelspec": {
      "name": "python3",
      "display_name": "Python 3"
    }
  },
  "cells": [
    {
      "cell_type": "markdown",
      "metadata": {
        "id": "view-in-github",
        "colab_type": "text"
      },
      "source": [
        "<a href=\"https://colab.research.google.com/github/srijan-singh/machine-learning/blob/main/Learning%20Classifiers/Random_KNN.ipynb\" target=\"_parent\"><img src=\"https://colab.research.google.com/assets/colab-badge.svg\" alt=\"Open In Colab\"/></a>"
      ]
    },
    {
      "cell_type": "code",
      "metadata": {
        "id": "6mnYNKJmEDWJ"
      },
      "source": [
        "import random"
      ],
      "execution_count": 25,
      "outputs": []
    },
    {
      "cell_type": "code",
      "metadata": {
        "id": "uU9ED4-qBh5o"
      },
      "source": [
        "class BasicKNN():\n",
        "  def fit(self, X_train, y_train):\n",
        "    self.X_train = X_train\n",
        "    self.y_train = y_train\n",
        "\n",
        "  def predict(self, X_test):\n",
        "    predictions = []\n",
        "    for rown in X_test:\n",
        "      label = random.choice(self.y_train)\n",
        "      predictions.append(label)\n",
        "\n",
        "    return predictions"
      ],
      "execution_count": 34,
      "outputs": []
    },
    {
      "cell_type": "code",
      "metadata": {
        "id": "gcFh1XP_9fgC"
      },
      "source": [
        "from sklearn import datasets"
      ],
      "execution_count": 1,
      "outputs": []
    },
    {
      "cell_type": "code",
      "metadata": {
        "id": "Rke_KMmEAmaP"
      },
      "source": [
        "iris = datasets.load_iris()"
      ],
      "execution_count": 4,
      "outputs": []
    },
    {
      "cell_type": "code",
      "metadata": {
        "id": "E73ls0EOAn4e"
      },
      "source": [
        "X = iris.data\n",
        "y = iris.target"
      ],
      "execution_count": 5,
      "outputs": []
    },
    {
      "cell_type": "code",
      "metadata": {
        "id": "wEf50X5vA6hi"
      },
      "source": [
        "from sklearn.model_selection import train_test_split"
      ],
      "execution_count": 6,
      "outputs": []
    },
    {
      "cell_type": "code",
      "metadata": {
        "id": "HKKJHEftBKlF"
      },
      "source": [
        "X_train, X_test, y_train, y_test = train_test_split(X, y, test_size = .5)"
      ],
      "execution_count": 7,
      "outputs": []
    },
    {
      "cell_type": "code",
      "metadata": {
        "id": "i1fVljWOBbxv"
      },
      "source": [
        "my_classifier = BasicKNN()"
      ],
      "execution_count": 35,
      "outputs": []
    },
    {
      "cell_type": "code",
      "metadata": {
        "id": "fYxI5B1dB3Kc"
      },
      "source": [
        "my_classifier.fit(X_train, y_train)"
      ],
      "execution_count": 36,
      "outputs": []
    },
    {
      "cell_type": "code",
      "metadata": {
        "id": "2Vr1r4_6CFKT"
      },
      "source": [
        "predictions = my_classifier.predict(X_test)"
      ],
      "execution_count": 37,
      "outputs": []
    },
    {
      "cell_type": "code",
      "metadata": {
        "id": "37JlMLiGCQcG"
      },
      "source": [
        "from sklearn.metrics import accuracy_score"
      ],
      "execution_count": 38,
      "outputs": []
    },
    {
      "cell_type": "code",
      "metadata": {
        "id": "HNnz8XWtCWr_",
        "outputId": "4b48fe76-e02a-4c49-8281-05ceb8309031",
        "colab": {
          "base_uri": "https://localhost:8080/",
          "height": 35
        }
      },
      "source": [
        "print(accuracy_score(y_test, predictions))"
      ],
      "execution_count": 39,
      "outputs": [
        {
          "output_type": "stream",
          "text": [
            "0.30666666666666664\n"
          ],
          "name": "stdout"
        }
      ]
    }
  ]
}