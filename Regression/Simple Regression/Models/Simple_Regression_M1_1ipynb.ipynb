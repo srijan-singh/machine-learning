{
  "nbformat": 4,
  "nbformat_minor": 0,
  "metadata": {
    "colab": {
      "name": "Simple_Regression_M1.1ipynb",
      "provenance": [],
      "authorship_tag": "ABX9TyOg6DvKga3CELvJIdu3H39p",
      "include_colab_link": true
    },
    "kernelspec": {
      "name": "python3",
      "display_name": "Python 3"
    }
  },
  "cells": [
    {
      "cell_type": "markdown",
      "metadata": {
        "id": "view-in-github",
        "colab_type": "text"
      },
      "source": [
        "<a href=\"https://colab.research.google.com/github/srijan-singh/machine-learning/blob/main/Regression/Simple%20Regression/Models/Simple_Regression_M1_1ipynb.ipynb\" target=\"_parent\"><img src=\"https://colab.research.google.com/assets/colab-badge.svg\" alt=\"Open In Colab\"/></a>"
      ]
    },
    {
      "cell_type": "markdown",
      "metadata": {
        "id": "CGW11Z2uEW2P"
      },
      "source": [
        "#Predicting Co2 Emission in Cars from it's Engine Size with a Simple Regression Model\r\n"
      ]
    },
    {
      "cell_type": "code",
      "metadata": {
        "cellView": "form",
        "id": "pLFqMInfACzW"
      },
      "source": [
        "#@title Install Libraries\r\n",
        "!pip install -U scikit-learn\r\n",
        "!wget -O FuelConsumption.csv https://s3-api.us-geo.objectstorage.softlayer.net/cf-courses-data/CognitiveClass/ML0101ENv3/labs/FuelConsumptionCo2.csv\r\n",
        "import matplotlib.pyplot as plt\r\n",
        "import pandas as pd\r\n",
        "import pylab as pl\r\n",
        "import numpy as np\r\n",
        "%matplotlib inline"
      ],
      "execution_count": null,
      "outputs": []
    },
    {
      "cell_type": "markdown",
      "metadata": {
        "id": "Q224BIAMC7Py"
      },
      "source": [
        "#Creating Simple Regression Model\r\n",
        "\r\n",
        "Where feature is Engine Size and label is Co2 Emission\r\n",
        "On a linear equation, we can state that:<center>\r\n",
        "*y = mx + c* <br>\r\n",
        "*Co2 Emission = (Intercept * Engine Size) + Biased Coefficeint*\r\n",
        "<br>\r\n",
        "</center>\r\n",
        "\r\n",
        "As mentioned, Coefficient and Intercept in the simple linear regression, are the parameters of the fit line. Given that it is a simple linear regression, with only 2 parameters, and knowing that the parameters are the intercept and slope of the line, sklearn can estimate them directly from our data. Notice that all of the data must be available to traverse and calculate the parameters"
      ]
    },
    {
      "cell_type": "code",
      "metadata": {
        "id": "8H0SjkWM-FBZ",
        "cellView": "form"
      },
      "source": [
        "#@title Create Model\r\n",
        "\r\n",
        "df = pd.read_csv(\"FuelConsumption.csv\")\r\n",
        "# selecting features and exploring the data\r\n",
        "cdf = df[['ENGINESIZE', 'CYLINDERS', 'FUELCONSUMPTION_COMB', 'CO2EMISSIONS']]\r\n",
        "# Distributing the Data\r\n",
        "msk = np.random.rand(len(df)) < 0.8\r\n",
        "train = cdf[msk]\r\n",
        "test = cdf[~msk] \r\n",
        "plt.scatter(train.ENGINESIZE, train.CO2EMISSIONS, color='blue')\r\n",
        "plt.xlabel(\"Engine Size\")\r\n",
        "plt.ylabel(\"Co2 Emission\")\r\n",
        "plt.show()\r\n",
        "\r\n",
        "from sklearn import linear_model\r\n",
        "regr = linear_model.LinearRegression()\r\n",
        "train_x = np.asanyarray(train[['ENGINESIZE']])\r\n",
        "train_y = np.asanyarray(train[['CO2EMISSIONS']])\r\n",
        "regr.fit(train_x, train_y)\r\n",
        "\r\n",
        "# Plotting the Graph\r\n",
        "plt.scatter(train.ENGINESIZE, train.CO2EMISSIONS, color=\"blue\")\r\n",
        "plt.plot(train_x, regr.coef_[0][0]*train_x + regr.intercept_[0], '-r')\r\n",
        "plt.xlabel(\"Engine size\")\r\n",
        "plt.ylabel(\"Emission\")\r\n",
        "from sklearn.metrics import r2_score\r\n",
        "\r\n",
        "test_x = np.asanyarray(test[['ENGINESIZE']])\r\n",
        "test_y = np.asanyarray(test[[\"CO2EMISSIONS\"]])\r\n",
        "test_y_ = regr.predict(test_x)\r\n",
        "\r\n",
        "print(\"Mean absolute error: %.2f\"% np.mean(np.absolute(test_y_ - test_y)))\r\n",
        "print(\"Residual sum of squares (MSE): %.2f\" % np.mean((test_y_ - test_y)**2))\r\n",
        "print(\"R2-score: %.2f\" % r2_score(test_y_, test_y))"
      ],
      "execution_count": null,
      "outputs": []
    },
    {
      "cell_type": "markdown",
      "metadata": {
        "id": "Aa4bx5FJDq3X"
      },
      "source": [
        "## Try it yourself!\r\n",
        "You can try and predict the Co2 Emission by providing the Engine Size below!"
      ]
    },
    {
      "cell_type": "code",
      "metadata": {
        "cellView": "form",
        "id": "MVg31nQrAfES"
      },
      "source": [
        "#@title Predict\r\n",
        "users_engn_siz = np.asanyarray([[float(input(\"Engine Size: \"))]])\r\n",
        "prediction = regr.predict(users_engn_siz)\r\n",
        "print(\"Co2 Emission:\",prediction[0][0])"
      ],
      "execution_count": null,
      "outputs": []
    }
  ]
}