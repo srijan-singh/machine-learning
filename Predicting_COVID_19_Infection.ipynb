{
  "nbformat": 4,
  "nbformat_minor": 0,
  "metadata": {
    "colab": {
      "name": "Predicting_COVID-19_Infection.ipynb",
      "provenance": [],
      "authorship_tag": "ABX9TyM4vCy9bysZlET1EXEK3r0q",
      "include_colab_link": true
    },
    "kernelspec": {
      "name": "python3",
      "display_name": "Python 3"
    }
  },
  "cells": [
    {
      "cell_type": "markdown",
      "metadata": {
        "id": "view-in-github",
        "colab_type": "text"
      },
      "source": [
        "<a href=\"https://colab.research.google.com/github/srijan-singh/machine-learning/blob/main/Predicting_COVID_19_Infection.ipynb\" target=\"_parent\"><img src=\"https://colab.research.google.com/assets/colab-badge.svg\" alt=\"Open In Colab\"/></a>"
      ]
    },
    {
      "cell_type": "markdown",
      "metadata": {
        "id": "tTM0h_39YLwl"
      },
      "source": [
        "**Supervise Learning**"
      ]
    },
    {
      "cell_type": "code",
      "metadata": {
        "id": "yJ4Dci68X_oJ"
      },
      "source": [
        "from sklearn import tree\n",
        "\n",
        "# Input [female, age, illness, severe, foreign]\n",
        "features = [[1, 50, 1, 0, 1], [0, 20, 0, 0, 0], [1, 12, 1, 1, 0], \n",
        "             [1, 1, 0, 0, 0], [0, 45, 0, 0, 1], [0, 70, 1, 1, 1],\n",
        "             [1, 16, 0, 0, 1]]\n",
        "\n",
        "# OUTPUT\n",
        "labels = [\"Take Precautions\", \"Prone but maintain social distancing\",\n",
        "          \"Take Precautions\", \"Prone but maintain social distancing\",\n",
        "          \"Take Precautions\", \"Take Precautions\", \"Take Precautions\"]\n",
        "\n",
        "clf = tree.DecisionTreeClassifier()\n",
        "clf = clf.fit(features, labels)"
      ],
      "execution_count": null,
      "outputs": []
    },
    {
      "cell_type": "markdown",
      "metadata": {
        "id": "pImyE9JdYU7g"
      },
      "source": [
        "**User Interface**"
      ]
    },
    {
      "cell_type": "markdown",
      "metadata": {
        "id": "-pAYNN3FYX0g"
      },
      "source": [
        "* Features: It's the factor that affect the output. In our model the features are below:\n",
        "1. Female : If female then 1; if male then 0.\n",
        "2. Age : Age of the user.\n",
        "3. Disease : Any disease in this duration then 1 else 0.\n",
        "4. Severe : Any severe disease if yes then 1 else 0.\n",
        "5. Foreign : Visited any foreign place in this duration if yes then 1 else"
      ]
    },
    {
      "cell_type": "code",
      "metadata": {
        "id": "MnOGeo3WYUiy",
        "outputId": "da1132e1-abce-44ca-8727-95c11382895d",
        "colab": {
          "base_uri": "https://localhost:8080/",
          "height": 243
        }
      },
      "source": [
        "# To the data we're using list.\n",
        "\n",
        "lists = [] # [female, age, illness, severe, foreign]\n",
        "list_item = [] # [for individual feature]\n",
        "\n",
        "feature = int(input(\"Gender \\nFemale = 1 or Male = 0: \\n\"))\n",
        "list_item.append(int(feature))\n",
        "feature = int(input(\"Age: \"))\n",
        "list_item.append(int(feature))\n",
        "feature = int(input(\"Do you have any illness within this duration?\\nIf yes 1 Else 0: \\n\"))\n",
        "list_item.append(int(feature))\n",
        "feature = int(input(\"Do you have any severe disease?\\nIf yes 1 Else 0: \\n\"))\n",
        "list_item.append(int(feature))\n",
        "feature = int(input(\"Have you been foreign within this Duration?\\nIf yes 1 Else 0: \\n\"))\n",
        "list_item.append(int(feature))\n",
        "lists.append(list_item)"
      ],
      "execution_count": null,
      "outputs": [
        {
          "output_type": "stream",
          "text": [
            "Gender \n",
            "Female = 1 or Male = 0: \n",
            "0\n",
            "Age: 17\n",
            "Do you have any illness within this duration?\n",
            "If yes 1 Else 0: \n",
            "0\n",
            "Do you have any severe disease?\n",
            "If yes 1 Else 0: \n",
            "0\n",
            "Have you been foreign within this Duration?\n",
            "If yes 1 Else 0: \n",
            "1\n"
          ],
          "name": "stdout"
        }
      ]
    },
    {
      "cell_type": "markdown",
      "metadata": {
        "id": "Kx5wYLNhY7PN"
      },
      "source": [
        "**Prediction**"
      ]
    },
    {
      "cell_type": "markdown",
      "metadata": {
        "id": "E8sqaXCwZLs6"
      },
      "source": [
        "* Labels: The Desired Output that our ML model will predict.\n",
        "1. Take Precautions : High chance of getting infected.\n",
        "2. Prone but maintain social distancing : Less chance of getting infected."
      ]
    },
    {
      "cell_type": "code",
      "metadata": {
        "id": "sz4hywtMZA-F",
        "outputId": "4846b852-5a11-492e-8ac5-ad3f3e2b0507",
        "colab": {
          "base_uri": "https://localhost:8080/",
          "height": 35
        }
      },
      "source": [
        "print(clf.predict(lists))"
      ],
      "execution_count": null,
      "outputs": [
        {
          "output_type": "stream",
          "text": [
            "['Take Precautions']\n"
          ],
          "name": "stdout"
        }
      ]
    }
  ]
}